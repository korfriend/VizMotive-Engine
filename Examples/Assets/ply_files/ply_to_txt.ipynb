{
 "cells": [
  {
   "cell_type": "code",
   "execution_count": 1,
   "metadata": {},
   "outputs": [
    {
     "name": "stdout",
     "output_type": "stream",
     "text": [
      "숫자 데이터가 point_cloud_1000_numeric.txt 파일에 저장되었습니다.\n"
     ]
    }
   ],
   "source": [
    "from plyfile import PlyData\n",
    "\n",
    "# 파일 경로 설정\n",
    "binary_ply_path = 'point_cloud_1000.ply'  # 원본 바이너리 PLY 파일 경로\n",
    "numeric_txt_path = 'point_cloud_1000_numeric.txt'  # 변환된 텍스트 파일 저장 경로\n",
    "\n",
    "# 바이너리 PLY 파일 읽기 및 숫자 데이터 추출\n",
    "try:\n",
    "    # PLY 파일 읽기\n",
    "    ply_data = PlyData.read(binary_ply_path)\n",
    "    \n",
    "    # 파일 열기\n",
    "    with open(numeric_txt_path, 'w') as txt_file:\n",
    "        # 헤더 작성\n",
    "        header = \" \".join(p.name for p in ply_data['vertex'].properties)\n",
    "        txt_file.write(header + \"\\n\")\n",
    "        \n",
    "        # 데이터 작성\n",
    "        for vertex in ply_data['vertex']:\n",
    "            row = \" \".join(map(str, vertex))\n",
    "            txt_file.write(row + \"\\n\")\n",
    "    \n",
    "    print(f\"숫자 데이터가 {numeric_txt_path} 파일에 저장되었습니다.\")\n",
    "except Exception as e:\n",
    "    print(f\"오류 발생: {e}\")\n"
   ]
  },
  {
   "cell_type": "code",
   "execution_count": 1,
   "metadata": {},
   "outputs": [
    {
     "name": "stdout",
     "output_type": "stream",
     "text": [
      "숫자 데이터가 point_cloud_numeric_sample_1000.txt 파일에 저장되었습니다.\n"
     ]
    }
   ],
   "source": [
    "from plyfile import PlyData\n",
    "\n",
    "# 파일 경로 설정\n",
    "binary_ply_path = 'point_cloud_sampled_1000.ply'  # 원본 바이너리 PLY 파일 경로\n",
    "numeric_txt_path = 'point_cloud_numeric_sample_1000.txt'  # 변환된 텍스트 파일 저장 경로\n",
    "\n",
    "# 바이너리 PLY 파일 읽기 및 숫자 데이터 추출\n",
    "try:\n",
    "    # PLY 파일 읽기\n",
    "    ply_data = PlyData.read(binary_ply_path)\n",
    "    \n",
    "    # 파일 열기\n",
    "    with open(numeric_txt_path, 'w') as txt_file:\n",
    "        # 헤더 작성\n",
    "        header = \" \".join(p.name for p in ply_data['vertex'].properties)\n",
    "        txt_file.write(header + \"\\n\")\n",
    "        \n",
    "        # 데이터 작성\n",
    "        for vertex in ply_data['vertex']:\n",
    "            row = \" \".join(map(str, vertex))\n",
    "            txt_file.write(row + \"\\n\")\n",
    "    \n",
    "    print(f\"숫자 데이터가 {numeric_txt_path} 파일에 저장되었습니다.\")\n",
    "except Exception as e:\n",
    "    print(f\"오류 발생: {e}\")\n"
   ]
  },
  {
   "cell_type": "code",
   "execution_count": 4,
   "metadata": {},
   "outputs": [
    {
     "name": "stdout",
     "output_type": "stream",
     "text": [
      "첫 1000개의 버텍스를 포함한 새 PLY 파일이 생성되었습니다: point_cloud_sampled_1000.ply\n"
     ]
    }
   ],
   "source": [
    "from plyfile import PlyData, PlyElement\n",
    "\n",
    "# 원본 PLY 파일 경로와 새 PLY 파일 경로\n",
    "input_ply_path = 'point_cloud.ply'  # 원본 파일 경로\n",
    "output_ply_path = 'point_cloud_sampled_1000.ply'  # 출력 파일 경로\n",
    "\n",
    "# PLY 파일에서 첫 1000개의 버텍스를 추출하여 새 PLY 파일로 저장\n",
    "try:\n",
    "    # 원본 PLY 파일 읽기\n",
    "    ply_data = PlyData.read(input_ply_path)\n",
    "    vertex_data = ply_data['vertex']  # 버텍스 데이터 가져오기\n",
    "\n",
    "    # 첫 1000개의 버텍스를 추출\n",
    "    sampled_vertices = vertex_data[:1000]\n",
    "\n",
    "    # 새로운 버텍스 데이터 생성\n",
    "    new_vertex_element = PlyElement.describe(sampled_vertices, 'vertex')\n",
    "\n",
    "    # 원본 파일이 텍스트인지 바이너리인지 확인\n",
    "    is_text_format = ply_data.comments and \"text\" in str(ply_data.comments).lower()\n",
    "\n",
    "    # 새 PLY 파일 작성\n",
    "    PlyData([new_vertex_element], text=is_text_format).write(output_ply_path)\n",
    "\n",
    "    print(f\"첫 1000개의 버텍스를 포함한 새 PLY 파일이 생성되었습니다: {output_ply_path}\")\n",
    "except Exception as e:\n",
    "    print(f\"오류 발생: {e}\")\n"
   ]
  },
  {
   "cell_type": "code",
   "execution_count": 2,
   "metadata": {},
   "outputs": [
    {
     "name": "stdout",
     "output_type": "stream",
     "text": [
      "숫자 데이터가 point_cloud.txt 파일에 저장되었습니다.\n"
     ]
    }
   ],
   "source": [
    "from plyfile import PlyData\n",
    "\n",
    "# 파일 경로 설정\n",
    "binary_ply_path = 'point_cloud.ply'  # 원본 바이너리 PLY 파일 경로\n",
    "numeric_txt_path = 'point_cloud.txt'  # 변환된 텍스트 파일 저장 경로\n",
    "\n",
    "# 바이너리 PLY 파일 읽기 및 숫자 데이터 추출\n",
    "try:\n",
    "    # PLY 파일 읽기\n",
    "    ply_data = PlyData.read(binary_ply_path)\n",
    "    \n",
    "    # 파일 열기\n",
    "    with open(numeric_txt_path, 'w') as txt_file:\n",
    "        # 헤더 작성\n",
    "        header = \" \".join(p.name for p in ply_data['vertex'].properties)\n",
    "        txt_file.write(header + \"\\n\")\n",
    "        \n",
    "        # 데이터 작성\n",
    "        for vertex in ply_data['vertex']:\n",
    "            row = \" \".join(map(str, vertex))\n",
    "            txt_file.write(row + \"\\n\")\n",
    "    \n",
    "    print(f\"숫자 데이터가 {numeric_txt_path} 파일에 저장되었습니다.\")\n",
    "except Exception as e:\n",
    "    print(f\"오류 발생: {e}\")\n"
   ]
  },
  {
   "cell_type": "code",
   "execution_count": null,
   "metadata": {},
   "outputs": [],
   "source": []
  }
 ],
 "metadata": {
  "kernelspec": {
   "display_name": "base",
   "language": "python",
   "name": "python3"
  },
  "language_info": {
   "codemirror_mode": {
    "name": "ipython",
    "version": 3
   },
   "file_extension": ".py",
   "mimetype": "text/x-python",
   "name": "python",
   "nbconvert_exporter": "python",
   "pygments_lexer": "ipython3",
   "version": "3.11.5"
  }
 },
 "nbformat": 4,
 "nbformat_minor": 2
}
